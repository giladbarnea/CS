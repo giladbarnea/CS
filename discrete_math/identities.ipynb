{
 "cells": [
  {
   "cell_type": "code",
   "execution_count": 2,
   "metadata": {},
   "outputs": [],
   "source": [
    "from sympy.logic.boolalg import to_anf,to_cnf,to_dnf,to_nnf,simplify_logic,truth_table\n",
    "from collections import defaultdict\n",
    "import re\n",
    "dct = defaultdict(set)\n",
    "TAUTOLOGY_RE = re.compile(r'~?([a-zA-Z]{1}) ?[|&] ?~?\\1')\n",
    "\n",
    "\n",
    "def _set_identities(fmt_str, name_bool_pairs:list):\n",
    "    args = []\n",
    "    \n",
    "    \n",
    "    for name,boolean in name_bool_pairs:\n",
    "        args.append(name if boolean else f'~{name}')\n",
    "    expr = fmt_str.format(*args)\n",
    "    anf = to_anf(expr)\n",
    "    cnf = to_cnf(expr)\n",
    "    dnf = to_dnf(expr)\n",
    "#     nnf = to_nnf(expr)\n",
    "    try:\n",
    "        nnf = to_nnf(expr)\n",
    "    except AttributeError:\n",
    "        nnf = \"\"\n",
    "    simple = str(simplify_logic(expr))\n",
    "    _is_ok = lambda s: (\n",
    "        bool(str(s))\n",
    "        and \n",
    "        not '^' in s\n",
    "        and \n",
    "        not TAUTOLOGY_RE.search(s)\n",
    "        and \n",
    "        not s in [simple,expr_str]\n",
    "        )\n",
    "    \n",
    "    if len(simple) > 2:\n",
    "        print(f'[{expr}] ≡ {simple}')\n",
    "#         print(list(truth_table(expr,set(args))))\n",
    "        if _is_ok(expr_str:=str(expr)):\n",
    "            dct[simple].add(expr)\n",
    "        if _is_ok(str(anf)):\n",
    "            print(f'\\tanf: \"{anf}\"')\n",
    "            dct[simple].add(anf)\n",
    "        if _is_ok(str(cnf)):\n",
    "            print(f'\\tcnf: \"{cnf}\"')\n",
    "            dct[simple].add(cnf)\n",
    "        if _is_ok(str(dnf)):\n",
    "            print(f'\\tdnf: \"{dnf}\"')\n",
    "            dct[simple].add(dnf)\n",
    "        if _is_ok(str(nnf)):\n",
    "            print(f'\\tnnf: \"{nnf}\"')\n",
    "            dct[simple].add(nnf)\n",
    "        print()\n",
    "\n",
    "def set_identities(fmt_str, *symbols):\n",
    "    for i in (True, False):\n",
    "        for j in (True, False):\n",
    "            for k in (True, False):\n",
    "                pairs = zip(symbols, (i,j,k))\n",
    "                _set_identities(fmt_str, pairs)\n",
    "                \n",
    "                \n",
    "\n"
   ]
  },
  {
   "cell_type": "code",
   "execution_count": 32,
   "metadata": {
    "tags": []
   },
   "outputs": [
    {
     "name": "stdout",
     "output_type": "stream",
     "text": [
      "[(p | q) & ~p] ≡ q & ~p\n",
      "\tcnf: \"~p & (p | q)\"\n",
      "\n",
      "[(p | ~q) & ~p] ≡ ~p & ~q\n",
      "\tcnf: \"~p & (p | ~q)\"\n",
      "\n",
      "[(~p | q) & p] ≡ p & q\n",
      "\tcnf: \"p & (q | ~p)\"\n",
      "\n",
      "[(~p | ~q) & p] ≡ p & ~q\n",
      "\tcnf: \"p & (~p | ~q)\"\n",
      "\n",
      "[(p & q) | ~p] ≡ q | ~p\n",
      "\tdnf: \"~p | (p & q)\"\n",
      "\n",
      "[(p & ~q) | ~p] ≡ ~p | ~q\n",
      "\tdnf: \"~p | (p & ~q)\"\n",
      "\n",
      "[(~p & q) | p] ≡ p | q\n",
      "\tdnf: \"p | (q & ~p)\"\n",
      "\n",
      "[(~p & ~q) | p] ≡ p | ~q\n",
      "\tdnf: \"p | (~p & ~q)\"\n",
      "\n",
      "[(p | q) & ~q] ≡ p & ~q\n",
      "\tcnf: \"~q & (p | q)\"\n",
      "\n",
      "[(p | ~q) & q] ≡ p & q\n",
      "\tcnf: \"q & (p | ~q)\"\n",
      "\n",
      "[(~p | q) & ~q] ≡ ~p & ~q\n",
      "\tcnf: \"~q & (q | ~p)\"\n",
      "\n",
      "[(~p | ~q) & q] ≡ q & ~p\n",
      "\tcnf: \"q & (~p | ~q)\"\n",
      "\n",
      "[(p & q) | ~q] ≡ p | ~q\n",
      "\tdnf: \"~q | (p & q)\"\n",
      "\n",
      "[(p & ~q) | q] ≡ p | q\n",
      "\tdnf: \"q | (p & ~q)\"\n",
      "\n",
      "[(~p & q) | ~q] ≡ ~p | ~q\n",
      "\tdnf: \"~q | (q & ~p)\"\n",
      "\n",
      "[(~p & ~q) | q] ≡ q | ~p\n",
      "\tdnf: \"q | (~p & ~q)\"\n",
      "\n"
     ]
    }
   ],
   "source": [
    "p_or_q__and_p = set_identities('({} | {}) & {}', 'p','q','p')\n",
    "p_and_q__or_p = set_identities('({} & {}) | {}', 'p','q','p')\n",
    "p_or_q__and_q = set_identities('({} | {}) & {}','p','q','q')\n",
    "p_and_q__or_q = set_identities('({} & {}) | {}','p','q','q')"
   ]
  },
  {
   "cell_type": "code",
   "execution_count": 31,
   "metadata": {
    "tags": []
   },
   "outputs": [
    {
     "ename": "IndexError",
     "evalue": "Replacement index 1 out of range for positional args tuple",
     "output_type": "error",
     "traceback": [
      "\u001b[0;31m---------------------------------------------------------------------------\u001b[0m",
      "\u001b[0;31mIndexError\u001b[0m                                Traceback (most recent call last)",
      "\u001b[0;32m~/.ipython/profile_default/startup/ipython_utils.py\u001b[0m in \u001b[0;36m<module>\u001b[0;34m\u001b[0m\n\u001b[0;32m----> 1\u001b[0;31m \u001b[0mset_identities\u001b[0m\u001b[0;34m(\u001b[0m\u001b[0;34m'{} >> {} | {} >> {}'\u001b[0m\u001b[0;34m,\u001b[0m \u001b[0;34m(\u001b[0m\u001b[0;34m'p'\u001b[0m\u001b[0;34m,\u001b[0m\u001b[0;34m'q'\u001b[0m\u001b[0;34m,\u001b[0m\u001b[0;34m'p'\u001b[0m\u001b[0;34m,\u001b[0m\u001b[0;34m'r'\u001b[0m\u001b[0;34m)\u001b[0m\u001b[0;34m)\u001b[0m\u001b[0;34m\u001b[0m\u001b[0;34m\u001b[0m\u001b[0m\n\u001b[0m",
      "\u001b[0;32m~/.ipython/profile_default/startup/ipython_utils.py\u001b[0m in \u001b[0;36mset_identities\u001b[0;34m(fmt_str, *symbols)\u001b[0m\n\u001b[1;32m     56\u001b[0m             \u001b[0;32mfor\u001b[0m \u001b[0mk\u001b[0m \u001b[0;32min\u001b[0m \u001b[0;34m(\u001b[0m\u001b[0;32mTrue\u001b[0m\u001b[0;34m,\u001b[0m \u001b[0;32mFalse\u001b[0m\u001b[0;34m)\u001b[0m\u001b[0;34m:\u001b[0m\u001b[0;34m\u001b[0m\u001b[0;34m\u001b[0m\u001b[0m\n\u001b[1;32m     57\u001b[0m                 \u001b[0mpairs\u001b[0m \u001b[0;34m=\u001b[0m \u001b[0mzip\u001b[0m\u001b[0;34m(\u001b[0m\u001b[0msymbols\u001b[0m\u001b[0;34m,\u001b[0m \u001b[0;34m(\u001b[0m\u001b[0mi\u001b[0m\u001b[0;34m,\u001b[0m\u001b[0mj\u001b[0m\u001b[0;34m,\u001b[0m\u001b[0mk\u001b[0m\u001b[0;34m)\u001b[0m\u001b[0;34m)\u001b[0m\u001b[0;34m\u001b[0m\u001b[0;34m\u001b[0m\u001b[0m\n\u001b[0;32m---> 58\u001b[0;31m                 \u001b[0m_set_identities\u001b[0m\u001b[0;34m(\u001b[0m\u001b[0mfmt_str\u001b[0m\u001b[0;34m,\u001b[0m \u001b[0mpairs\u001b[0m\u001b[0;34m)\u001b[0m\u001b[0;34m\u001b[0m\u001b[0;34m\u001b[0m\u001b[0m\n\u001b[0m\u001b[1;32m     59\u001b[0m \u001b[0;34m\u001b[0m\u001b[0m\n\u001b[1;32m     60\u001b[0m \u001b[0;34m\u001b[0m\u001b[0m\n",
      "\u001b[0;32m~/.ipython/profile_default/startup/ipython_utils.py\u001b[0m in \u001b[0;36m_set_identities\u001b[0;34m(fmt_str, name_bool_pairs)\u001b[0m\n\u001b[1;32m     12\u001b[0m     \u001b[0;32mfor\u001b[0m \u001b[0mname\u001b[0m\u001b[0;34m,\u001b[0m\u001b[0mboolean\u001b[0m \u001b[0;32min\u001b[0m \u001b[0mname_bool_pairs\u001b[0m\u001b[0;34m:\u001b[0m\u001b[0;34m\u001b[0m\u001b[0;34m\u001b[0m\u001b[0m\n\u001b[1;32m     13\u001b[0m         \u001b[0margs\u001b[0m\u001b[0;34m.\u001b[0m\u001b[0mappend\u001b[0m\u001b[0;34m(\u001b[0m\u001b[0mname\u001b[0m \u001b[0;32mif\u001b[0m \u001b[0mboolean\u001b[0m \u001b[0;32melse\u001b[0m \u001b[0;34mf'~{name}'\u001b[0m\u001b[0;34m)\u001b[0m\u001b[0;34m\u001b[0m\u001b[0;34m\u001b[0m\u001b[0m\n\u001b[0;32m---> 14\u001b[0;31m     \u001b[0mexpr\u001b[0m \u001b[0;34m=\u001b[0m \u001b[0mfmt_str\u001b[0m\u001b[0;34m.\u001b[0m\u001b[0mformat\u001b[0m\u001b[0;34m(\u001b[0m\u001b[0;34m*\u001b[0m\u001b[0margs\u001b[0m\u001b[0;34m)\u001b[0m\u001b[0;34m\u001b[0m\u001b[0;34m\u001b[0m\u001b[0m\n\u001b[0m\u001b[1;32m     15\u001b[0m     \u001b[0manf\u001b[0m \u001b[0;34m=\u001b[0m \u001b[0mto_anf\u001b[0m\u001b[0;34m(\u001b[0m\u001b[0mexpr\u001b[0m\u001b[0;34m)\u001b[0m\u001b[0;34m\u001b[0m\u001b[0;34m\u001b[0m\u001b[0m\n\u001b[1;32m     16\u001b[0m     \u001b[0mcnf\u001b[0m \u001b[0;34m=\u001b[0m \u001b[0mto_cnf\u001b[0m\u001b[0;34m(\u001b[0m\u001b[0mexpr\u001b[0m\u001b[0;34m)\u001b[0m\u001b[0;34m\u001b[0m\u001b[0;34m\u001b[0m\u001b[0m\n",
      "\u001b[0;31mIndexError\u001b[0m: Replacement index 1 out of range for positional args tuple"
     ]
    }
   ],
   "source": [
    "set_identities('{} >> {} | {} >> {}', ('p','q','p','r'))"
   ]
  },
  {
   "cell_type": "code",
   "execution_count": 3,
   "metadata": {},
   "outputs": [
    {
     "output_type": "error",
     "ename": "IndexError",
     "evalue": "Replacement index 1 out of range for positional args tuple",
     "traceback": [
      "\u001b[0;31m---------------------------------------------------------------------------\u001b[0m",
      "\u001b[0;31mIndexError\u001b[0m                                Traceback (most recent call last)",
      "\u001b[0;32m~/.ipython/profile_default/startup/ipython_utils.py\u001b[0m in \u001b[0;36m<module>\u001b[0;34m\u001b[0m\n\u001b[0;32m----> 1\u001b[0;31m \u001b[0mset_identities\u001b[0m\u001b[0;34m(\u001b[0m\u001b[0;34m'({} | {}) >> {}'\u001b[0m\u001b[0;34m,\u001b[0m \u001b[0;34m(\u001b[0m\u001b[0;34m'p'\u001b[0m\u001b[0;34m,\u001b[0m\u001b[0;34m'q'\u001b[0m\u001b[0;34m,\u001b[0m\u001b[0;34m'p'\u001b[0m\u001b[0;34m)\u001b[0m\u001b[0;34m)\u001b[0m\u001b[0;34m\u001b[0m\u001b[0;34m\u001b[0m\u001b[0m\n\u001b[0m",
      "\u001b[0;32m~/.ipython/profile_default/startup/ipython_utils.py\u001b[0m in \u001b[0;36mset_identities\u001b[0;34m(fmt_str, *symbols)\u001b[0m\n\u001b[1;32m     56\u001b[0m             \u001b[0;32mfor\u001b[0m \u001b[0mk\u001b[0m \u001b[0;32min\u001b[0m \u001b[0;34m(\u001b[0m\u001b[0;32mTrue\u001b[0m\u001b[0;34m,\u001b[0m \u001b[0;32mFalse\u001b[0m\u001b[0;34m)\u001b[0m\u001b[0;34m:\u001b[0m\u001b[0;34m\u001b[0m\u001b[0;34m\u001b[0m\u001b[0m\n\u001b[1;32m     57\u001b[0m                 \u001b[0mpairs\u001b[0m \u001b[0;34m=\u001b[0m \u001b[0mzip\u001b[0m\u001b[0;34m(\u001b[0m\u001b[0msymbols\u001b[0m\u001b[0;34m,\u001b[0m \u001b[0;34m(\u001b[0m\u001b[0mi\u001b[0m\u001b[0;34m,\u001b[0m\u001b[0mj\u001b[0m\u001b[0;34m,\u001b[0m\u001b[0mk\u001b[0m\u001b[0;34m)\u001b[0m\u001b[0;34m)\u001b[0m\u001b[0;34m\u001b[0m\u001b[0;34m\u001b[0m\u001b[0m\n\u001b[0;32m---> 58\u001b[0;31m                 \u001b[0m_set_identities\u001b[0m\u001b[0;34m(\u001b[0m\u001b[0mfmt_str\u001b[0m\u001b[0;34m,\u001b[0m \u001b[0mpairs\u001b[0m\u001b[0;34m)\u001b[0m\u001b[0;34m\u001b[0m\u001b[0;34m\u001b[0m\u001b[0m\n\u001b[0m\u001b[1;32m     59\u001b[0m \u001b[0;34m\u001b[0m\u001b[0m\n\u001b[1;32m     60\u001b[0m \u001b[0;34m\u001b[0m\u001b[0m\n",
      "\u001b[0;32m~/.ipython/profile_default/startup/ipython_utils.py\u001b[0m in \u001b[0;36m_set_identities\u001b[0;34m(fmt_str, name_bool_pairs)\u001b[0m\n\u001b[1;32m     12\u001b[0m     \u001b[0;32mfor\u001b[0m \u001b[0mname\u001b[0m\u001b[0;34m,\u001b[0m\u001b[0mboolean\u001b[0m \u001b[0;32min\u001b[0m \u001b[0mname_bool_pairs\u001b[0m\u001b[0;34m:\u001b[0m\u001b[0;34m\u001b[0m\u001b[0;34m\u001b[0m\u001b[0m\n\u001b[1;32m     13\u001b[0m         \u001b[0margs\u001b[0m\u001b[0;34m.\u001b[0m\u001b[0mappend\u001b[0m\u001b[0;34m(\u001b[0m\u001b[0mname\u001b[0m \u001b[0;32mif\u001b[0m \u001b[0mboolean\u001b[0m \u001b[0;32melse\u001b[0m \u001b[0;34mf'~{name}'\u001b[0m\u001b[0;34m)\u001b[0m\u001b[0;34m\u001b[0m\u001b[0;34m\u001b[0m\u001b[0m\n\u001b[0;32m---> 14\u001b[0;31m     \u001b[0mexpr\u001b[0m \u001b[0;34m=\u001b[0m \u001b[0mfmt_str\u001b[0m\u001b[0;34m.\u001b[0m\u001b[0mformat\u001b[0m\u001b[0;34m(\u001b[0m\u001b[0;34m*\u001b[0m\u001b[0margs\u001b[0m\u001b[0;34m)\u001b[0m\u001b[0;34m\u001b[0m\u001b[0;34m\u001b[0m\u001b[0m\n\u001b[0m\u001b[1;32m     15\u001b[0m     \u001b[0manf\u001b[0m \u001b[0;34m=\u001b[0m \u001b[0mto_anf\u001b[0m\u001b[0;34m(\u001b[0m\u001b[0mexpr\u001b[0m\u001b[0;34m)\u001b[0m\u001b[0;34m\u001b[0m\u001b[0;34m\u001b[0m\u001b[0m\n\u001b[1;32m     16\u001b[0m     \u001b[0mcnf\u001b[0m \u001b[0;34m=\u001b[0m \u001b[0mto_cnf\u001b[0m\u001b[0;34m(\u001b[0m\u001b[0mexpr\u001b[0m\u001b[0;34m)\u001b[0m\u001b[0;34m\u001b[0m\u001b[0;34m\u001b[0m\u001b[0m\n",
      "\u001b[0;31mIndexError\u001b[0m: Replacement index 1 out of range for positional args tuple"
     ]
    }
   ],
   "source": [
    "set_identities('({} | {}) >> {}', ('p','q','p'))"
   ]
  }
 ],
 "metadata": {
  "kernelspec": {
   "display_name": "Python 3.8.2 64-bit",
   "language": "python",
   "name": "python38264bitc0f747005d6e44b7a7c6ece009e0ff91"
  },
  "language_info": {
   "codemirror_mode": {
    "name": "ipython",
    "version": 3
   },
   "file_extension": ".py",
   "mimetype": "text/x-python",
   "name": "python",
   "nbconvert_exporter": "python",
   "pygments_lexer": "ipython3",
   "version": "3.8.2-final"
  }
 },
 "nbformat": 4,
 "nbformat_minor": 4
}